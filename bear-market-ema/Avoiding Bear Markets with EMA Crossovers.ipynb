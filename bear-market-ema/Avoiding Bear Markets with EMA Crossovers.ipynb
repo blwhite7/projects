{
 "cells": [
  {
   "cell_type": "markdown",
   "metadata": {},
   "source": [
    "Author: Brent White, 2018"
   ]
  },
  {
   "cell_type": "code",
   "execution_count": 1,
   "metadata": {},
   "outputs": [],
   "source": [
    "import pandas as pd\n",
    "import numpy as np\n",
    "import talib\n",
    "from scipy import stats\n",
    "import matplotlib.pyplot as plt\n",
    "import matplotlib.dates as mdates\n",
    "plt.rcParams['figure.figsize'] = [10, 5]"
   ]
  },
  {
   "cell_type": "markdown",
   "metadata": {},
   "source": [
    "# Load daily S&P 500 data since 1993"
   ]
  },
  {
   "cell_type": "code",
   "execution_count": 2,
   "metadata": {},
   "outputs": [],
   "source": [
    "spy_df = pd.read_csv('/Users/Brent/Downloads/SPY (2).csv') # change directory to your specific machine"
   ]
  },
  {
   "cell_type": "code",
   "execution_count": 3,
   "metadata": {},
   "outputs": [
    {
     "data": {
      "text/html": [
       "<div>\n",
       "<style scoped>\n",
       "    .dataframe tbody tr th:only-of-type {\n",
       "        vertical-align: middle;\n",
       "    }\n",
       "\n",
       "    .dataframe tbody tr th {\n",
       "        vertical-align: top;\n",
       "    }\n",
       "\n",
       "    .dataframe thead th {\n",
       "        text-align: right;\n",
       "    }\n",
       "</style>\n",
       "<table border=\"1\" class=\"dataframe\">\n",
       "  <thead>\n",
       "    <tr style=\"text-align: right;\">\n",
       "      <th></th>\n",
       "      <th>Date</th>\n",
       "      <th>Open</th>\n",
       "      <th>High</th>\n",
       "      <th>Low</th>\n",
       "      <th>Close</th>\n",
       "      <th>Adj Close</th>\n",
       "      <th>Volume</th>\n",
       "    </tr>\n",
       "  </thead>\n",
       "  <tbody>\n",
       "    <tr>\n",
       "      <th>0</th>\n",
       "      <td>1993-01-29</td>\n",
       "      <td>43.9687</td>\n",
       "      <td>43.9687</td>\n",
       "      <td>43.7500</td>\n",
       "      <td>43.9375</td>\n",
       "      <td>26.954851</td>\n",
       "      <td>1003200</td>\n",
       "    </tr>\n",
       "    <tr>\n",
       "      <th>1</th>\n",
       "      <td>1993-02-01</td>\n",
       "      <td>43.9687</td>\n",
       "      <td>44.2500</td>\n",
       "      <td>43.9687</td>\n",
       "      <td>44.2500</td>\n",
       "      <td>27.146563</td>\n",
       "      <td>480500</td>\n",
       "    </tr>\n",
       "    <tr>\n",
       "      <th>2</th>\n",
       "      <td>1993-02-02</td>\n",
       "      <td>44.2187</td>\n",
       "      <td>44.3750</td>\n",
       "      <td>44.1250</td>\n",
       "      <td>44.3437</td>\n",
       "      <td>27.204052</td>\n",
       "      <td>201300</td>\n",
       "    </tr>\n",
       "    <tr>\n",
       "      <th>3</th>\n",
       "      <td>1993-02-03</td>\n",
       "      <td>44.4062</td>\n",
       "      <td>44.8437</td>\n",
       "      <td>44.3750</td>\n",
       "      <td>44.8125</td>\n",
       "      <td>27.491642</td>\n",
       "      <td>529400</td>\n",
       "    </tr>\n",
       "    <tr>\n",
       "      <th>4</th>\n",
       "      <td>1993-02-04</td>\n",
       "      <td>44.9687</td>\n",
       "      <td>45.0937</td>\n",
       "      <td>44.4687</td>\n",
       "      <td>45.0000</td>\n",
       "      <td>27.606684</td>\n",
       "      <td>531500</td>\n",
       "    </tr>\n",
       "  </tbody>\n",
       "</table>\n",
       "</div>"
      ],
      "text/plain": [
       "        Date     Open     High      Low    Close  Adj Close   Volume\n",
       "0 1993-01-29  43.9687  43.9687  43.7500  43.9375  26.954851  1003200\n",
       "1 1993-02-01  43.9687  44.2500  43.9687  44.2500  27.146563   480500\n",
       "2 1993-02-02  44.2187  44.3750  44.1250  44.3437  27.204052   201300\n",
       "3 1993-02-03  44.4062  44.8437  44.3750  44.8125  27.491642   529400\n",
       "4 1993-02-04  44.9687  45.0937  44.4687  45.0000  27.606684   531500"
      ]
     },
     "execution_count": 3,
     "metadata": {},
     "output_type": "execute_result"
    }
   ],
   "source": [
    "spy_df['Date'] = pd.to_datetime(spy_df['Date'])\n",
    "spy_df.head()"
   ]
  },
  {
   "cell_type": "markdown",
   "metadata": {},
   "source": [
    "# Returns are distributed log-normal, so take the log of the adjusted close"
   ]
  },
  {
   "cell_type": "code",
   "execution_count": 4,
   "metadata": {},
   "outputs": [],
   "source": [
    "spy_df['log_price'] = np.log(spy_df['Adj Close'])"
   ]
  },
  {
   "cell_type": "markdown",
   "metadata": {},
   "source": [
    "# Denoise data by taking exponential moving average over various intervals"
   ]
  },
  {
   "cell_type": "code",
   "execution_count": 5,
   "metadata": {},
   "outputs": [],
   "source": [
    "for i in [30,60,90,252]:\n",
    "    spy_df['ema{0}'.format(i)] = talib.EMA(spy_df['log_price'], timeperiod=i)"
   ]
  },
  {
   "cell_type": "code",
   "execution_count": 6,
   "metadata": {},
   "outputs": [
    {
     "data": {
      "text/plain": [
       "Text(0,0.5,'log-price, log($)')"
      ]
     },
     "execution_count": 6,
     "metadata": {},
     "output_type": "execute_result"
    },
    {
     "data": {
      "image/png": "[encoded data removed]",
      "text/plain": [
       "<matplotlib.figure.Figure at 0x10c8b66d8>"
      ]
     },
     "metadata": {
      "needs_background": "light"
     },
     "output_type": "display_data"
    }
   ],
   "source": [
    "ax = spy_df.plot(x='Date', y=['log_price', 'ema30', 'ema60', 'ema90', 'ema252'], title='SPY log-price, 1993-2018')\n",
    "ax.set_ylabel('log-price, log($)')"
   ]
  },
  {
   "cell_type": "markdown",
   "metadata": {},
   "source": [
    "# When the 252-day EMA crosses over the 30-day EMA, it seems to be a good indicator of a recession... let's test this hypothesis"
   ]
  },
  {
   "cell_type": "markdown",
   "metadata": {},
   "source": [
    "First, calculate daily change in log price"
   ]
  },
  {
   "cell_type": "code",
   "execution_count": 7,
   "metadata": {},
   "outputs": [],
   "source": [
    "spy_df['day_pct_change'] = (spy_df['Adj Close']/spy_df['Adj Close'].shift(1)).shift(-1)\n",
    "spy_df['log_price_change'] = spy_df['log_price'] - spy_df['log_price'].shift(1)"
   ]
  },
  {
   "cell_type": "markdown",
   "metadata": {},
   "source": [
    "Now, drop NAs"
   ]
  },
  {
   "cell_type": "code",
   "execution_count": 8,
   "metadata": {},
   "outputs": [],
   "source": [
    "spy_df = spy_df.dropna()"
   ]
  },
  {
   "cell_type": "markdown",
   "metadata": {},
   "source": [
    "Show if there is mean difference in returns between periods where EMA 252 < EMA 90"
   ]
  },
  {
   "cell_type": "code",
   "execution_count": 9,
   "metadata": {},
   "outputs": [
    {
     "name": "stdout",
     "output_type": "stream",
     "text": [
      "30 day crossover on top mean, stdev: 0.0005 0.0094\n",
      "252 day crossover on top mean, stdev: -0.0004 0.0186\n"
     ]
    }
   ],
   "source": [
    "ema30returns = spy_df.loc[(spy_df['ema30'] > spy_df['ema252']), 'log_price_change'].values\n",
    "ema252returns = spy_df.loc[(spy_df['ema30'] <= spy_df['ema252']), 'log_price_change'].values\n",
    "#consider if variances  equal\n",
    "print('30 day crossover on top mean, stdev:', round(ema30returns.mean(), 4), round(ema30returns.std(), 4))\n",
    "print('252 day crossover on top mean, stdev:', round(ema252returns.mean(), 4), round(ema252returns.std(), 4))"
   ]
  },
  {
   "cell_type": "code",
   "execution_count": 10,
   "metadata": {},
   "outputs": [
    {
     "data": {
      "text/plain": [
       "Ttest_indResult(statistic=2.3028658752086018, pvalue=0.02131897726922946)"
      ]
     },
     "execution_count": 10,
     "metadata": {},
     "output_type": "execute_result"
    }
   ],
   "source": [
    "stats.ttest_ind(ema30returns, ema252returns)"
   ]
  },
  {
   "cell_type": "markdown",
   "metadata": {},
   "source": [
    "# p < 0.05, so reject the null hypothesis that returns are the same between EMA 252 and EMA 30 crossover periods"
   ]
  },
  {
   "cell_type": "markdown",
   "metadata": {},
   "source": [
    "Exploring our potential returns, if we invest in a savings account during periods where the EMA 252 exceeds the EMA 30..."
   ]
  },
  {
   "cell_type": "code",
   "execution_count": 11,
   "metadata": {},
   "outputs": [],
   "source": [
    "spy_df['strategy_pct_change'] = spy_df['day_pct_change'].where(spy_df['ema30'] > spy_df['ema252'], 1+(.01/252))\n",
    "spy_df['Strategy Adj Close'] = spy_df['strategy_pct_change'].cumprod()*spy_df['Adj Close'].iloc[0]"
   ]
  },
  {
   "cell_type": "code",
   "execution_count": 12,
   "metadata": {},
   "outputs": [
    {
     "data": {
      "text/plain": [
       "Text(0,0.5,'Price, $')"
      ]
     },
     "execution_count": 12,
     "metadata": {},
     "output_type": "execute_result"
    },
    {
     "data": {
      "image/png": "[encoded data removed]",
      "text/plain": [
       "<matplotlib.figure.Figure at 0x1a203cca20>"
      ]
     },
     "metadata": {
      "needs_background": "light"
     },
     "output_type": "display_data"
    }
   ],
   "source": [
    "ax = spy_df.plot('Date', ['Adj Close', 'Strategy Adj Close'], title='Expected Growth of SPY Buy and Hold Strat vs EMA Crossover Strat, 1993-2018')\n",
    "ax.set_ylabel('Price, $')"
   ]
  },
  {
   "cell_type": "code",
   "execution_count": 13,
   "metadata": {},
   "outputs": [
    {
     "name": "stdout",
     "output_type": "stream",
     "text": [
      "P/L Difference: 245.38%\n"
     ]
    }
   ],
   "source": [
    "print('P/L Difference: {0}%'.format(\n",
    "    round((spy_df['Strategy Adj Close'].iloc[-1]/spy_df['Strategy Adj Close'].iloc[0]\n",
    "    - spy_df['Adj Close'].iloc[-1]/spy_df['Adj Close'].iloc[0])*100,2)))"
   ]
  },
  {
   "cell_type": "markdown",
   "metadata": {},
   "source": [
    "# Takeaway: The dotcom bubble and housing crisis could have been meandered with a simple analysis of EMA crossovers!\n",
    "\n",
    "# By avoiding these two downturns, our theoretical S&P 500 holdings gained an additional 245.38%, compared to a buy and hold strategy, over the period from 1993 - 2018.\n",
    "\n",
    "# With turbid waters seemingly ahead, this strategy could be of interest to you."
   ]
  }
 ],
 "metadata": {
  "kernelspec": {
   "display_name": "Python 3",
   "language": "python",
   "name": "python3"
  },
  "language_info": {
   "codemirror_mode": {
    "name": "ipython",
    "version": 3
   },
   "file_extension": ".py",
   "mimetype": "text/x-python",
   "name": "python",
   "nbconvert_exporter": "python",
   "pygments_lexer": "ipython3",
   "version": "3.6.6"
  }
 },
 "nbformat": 4,
 "nbformat_minor": 2
}
